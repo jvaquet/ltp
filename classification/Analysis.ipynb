{
 "cells": [
  {
   "cell_type": "code",
   "execution_count": null,
   "id": "57ecd10c",
   "metadata": {},
   "outputs": [],
   "source": [
    "import pickle\n",
    "import numpy as np\n",
    "import matplotlib.pyplot as plt\n",
    "import sklearn as sk\n",
    "import sklearn.utils\n",
    "import sklearn.model_selection\n",
    "import sklearn.metrics\n",
    "import sklearn.linear_model"
   ]
  },
  {
   "cell_type": "code",
   "execution_count": null,
   "id": "362b44f0",
   "metadata": {},
   "outputs": [],
   "source": [
    "data = np.load('results/results_neo_0.npz')\n",
    "y = data['y']"
   ]
  },
  {
   "cell_type": "code",
   "execution_count": null,
   "id": "9eca9405",
   "metadata": {},
   "outputs": [],
   "source": [
    "data = np.load('results/results_neo_0_enh.npz')\n",
    "probas_0 = data['preds']"
   ]
  },
  {
   "cell_type": "code",
   "execution_count": null,
   "id": "50de1244",
   "metadata": {},
   "outputs": [],
   "source": [
    "data = np.load('results/results_neo_1_enh.npz')\n",
    "probas_1 = data['preds']"
   ]
  },
  {
   "cell_type": "code",
   "execution_count": null,
   "id": "c92aaeba",
   "metadata": {},
   "outputs": [],
   "source": [
    "data = np.load('results/results_neo_2_enh.npz')\n",
    "probas_2 = data['preds']"
   ]
  },
  {
   "cell_type": "code",
   "execution_count": null,
   "id": "06a74cbb",
   "metadata": {},
   "outputs": [],
   "source": [
    "with open('data_train.p', 'rb') as f:\n",
    "    data_train = pickle.load(f)"
   ]
  },
  {
   "cell_type": "markdown",
   "id": "fe3f4396",
   "metadata": {},
   "source": [
    "## Calculate Preds"
   ]
  },
  {
   "cell_type": "code",
   "execution_count": null,
   "id": "be2b1de2",
   "metadata": {},
   "outputs": [],
   "source": [
    "MLE = lambda probas: np.argmax(probas, axis=1)"
   ]
  },
  {
   "cell_type": "code",
   "execution_count": null,
   "id": "40a805a5",
   "metadata": {},
   "outputs": [],
   "source": [
    "preds_0 = MLE(probas_0)\n",
    "preds_1 = MLE(probas_1)\n",
    "preds_2 = MLE(probas_2)"
   ]
  },
  {
   "cell_type": "markdown",
   "id": "21107b38",
   "metadata": {},
   "source": [
    "### MAP\n",
    "* GPT-2: prior_manual = np.array([5.0, 23.5, 3.5, 2.25, 3.7])\n",
    "* GPT-Neo: prior_manual = np.array([14.0, 2.5, 3.5, 3.5, 1.0])"
   ]
  },
  {
   "cell_type": "code",
   "execution_count": null,
   "id": "1d956378",
   "metadata": {},
   "outputs": [],
   "source": [
    "MAP = lambda probas, prior: np.argmax(probas * prior, axis=1)"
   ]
  },
  {
   "cell_type": "code",
   "execution_count": null,
   "id": "4a0681fa",
   "metadata": {},
   "outputs": [],
   "source": [
    "prior_manual = np.array([18.5, 3.0, 4.5, 4.5, 1.0])\n",
    "prior_empirical = np.array([461., 624., 339.,  95.,  72.])"
   ]
  },
  {
   "cell_type": "code",
   "execution_count": null,
   "id": "879dbcb3",
   "metadata": {},
   "outputs": [],
   "source": [
    "map_emp_0 = MAP(probas_0, prior_empirical)\n",
    "map_emp_1 = MAP(probas_1, prior_empirical)\n",
    "map_emp_2 = MAP(probas_2, prior_empirical)"
   ]
  },
  {
   "cell_type": "code",
   "execution_count": null,
   "id": "109ba8ce",
   "metadata": {},
   "outputs": [],
   "source": [
    "map_0 = MAP(probas_0, prior_manual)\n",
    "map_1 = MAP(probas_1, prior_manual)\n",
    "map_2 = MAP(probas_2, prior_manual)"
   ]
  },
  {
   "cell_type": "markdown",
   "id": "6eff7e9b",
   "metadata": {},
   "source": [
    "### Code for manual grid search"
   ]
  },
  {
   "cell_type": "code",
   "execution_count": null,
   "id": "799c8c2d",
   "metadata": {},
   "outputs": [],
   "source": [
    "range_0 = []# np.arange(13, 19, .5)\n",
    "range_1 = []# np.arange(1, 6, .5)\n",
    "range_2 = []# np.arange(2, 7, .5)\n",
    "range_3 = []# np.arange(3, 8, .5)\n",
    "range_4 = []# np.arange(1, 3, .5)"
   ]
  },
  {
   "cell_type": "code",
   "execution_count": null,
   "id": "7a6d36c0",
   "metadata": {},
   "outputs": [],
   "source": [
    "best_f1 = 0\n",
    "best_weights = []\n",
    "\n",
    "for w0 in range_0:\n",
    "    print(f'w0: {w0}')\n",
    "    for w1 in range_1:\n",
    "        for w2 in range_2:\n",
    "            for w3 in range_3:\n",
    "                for w4 in range_4:\n",
    "                    cur_weights = np.array([w0, w1, w2, w3, w4])\n",
    "                    cur_preds = MAP(probas_0 + probas_1 + probas_2, cur_weights)\n",
    "                    cur_f1 = sk.metrics.f1_score(y, cur_preds, average='macro')\n",
    "                    if cur_f1 > best_f1:\n",
    "                        best_f1 = cur_f1\n",
    "                        best_weights = [w0, w1, w2, w3, w4]"
   ]
  },
  {
   "cell_type": "code",
   "execution_count": null,
   "id": "f1eee0d3",
   "metadata": {},
   "outputs": [],
   "source": [
    "best_weights"
   ]
  },
  {
   "cell_type": "markdown",
   "id": "c3f099f9",
   "metadata": {},
   "source": [
    "### Evaluate Consistency"
   ]
  },
  {
   "cell_type": "code",
   "execution_count": null,
   "id": "3243c260",
   "metadata": {},
   "outputs": [],
   "source": [
    "print('Pairwise Rand scores, MLE:')\n",
    "print(sk.metrics.rand_score(preds_0, preds_1))\n",
    "print(sk.metrics.rand_score(preds_0, preds_2))\n",
    "print(sk.metrics.rand_score(preds_1, preds_2))"
   ]
  },
  {
   "cell_type": "code",
   "execution_count": null,
   "id": "2398e58f",
   "metadata": {},
   "outputs": [],
   "source": [
    "print('Pairwise Rand scores, MAP:')\n",
    "print(sk.metrics.rand_score(map_0, map_1))\n",
    "print(sk.metrics.rand_score(map_0, map_2))\n",
    "print(sk.metrics.rand_score(map_1, map_2))"
   ]
  },
  {
   "cell_type": "code",
   "execution_count": null,
   "id": "389b711d",
   "metadata": {},
   "outputs": [],
   "source": [
    "import krippendorff_alpha"
   ]
  },
  {
   "cell_type": "code",
   "execution_count": null,
   "id": "fddad7cd",
   "metadata": {},
   "outputs": [],
   "source": [
    "print('Krippendorff\\'s alpha (MLE):')\n",
    "print(krippendorff_alpha.krippendorff_alpha([preds_0, preds_1, preds_2], metric=krippendorff_alpha.nominal_metric))"
   ]
  },
  {
   "cell_type": "code",
   "execution_count": null,
   "id": "16b33ec8",
   "metadata": {},
   "outputs": [],
   "source": [
    "print('Krippendorff\\'s alpha (MAP):')\n",
    "print(krippendorff_alpha.krippendorff_alpha([map_0, map_1, map_2], metric=krippendorff_alpha.nominal_metric))"
   ]
  },
  {
   "cell_type": "markdown",
   "id": "6c6bef24",
   "metadata": {},
   "source": [
    "## Classification Reports"
   ]
  },
  {
   "cell_type": "code",
   "execution_count": null,
   "id": "241bd5c2",
   "metadata": {},
   "outputs": [],
   "source": [
    "def report(y, preds, save_name=False):\n",
    "    print(sk.metrics.classification_report(y, preds, zero_division=0))\n",
    "    sk.metrics.ConfusionMatrixDisplay.from_predictions(y, preds, display_labels=data_train.keys(), \\\n",
    "                                                       xticks_rotation=45, normalize='true')\n",
    "    if save_name:\n",
    "        plt.savefig(save_name, bbox_inches='tight')\n",
    "    plt.show()"
   ]
  },
  {
   "cell_type": "code",
   "execution_count": null,
   "id": "7e66d92b",
   "metadata": {},
   "outputs": [],
   "source": [
    "print(\"MLE:\")\n",
    "report(y, preds_0)\n",
    "report(y, preds_1)\n",
    "report(y, preds_2)"
   ]
  },
  {
   "cell_type": "code",
   "execution_count": null,
   "id": "986c7a7f",
   "metadata": {},
   "outputs": [],
   "source": [
    "print(\"MAP:\")\n",
    "report(y, map_0)\n",
    "report(y, map_1)\n",
    "report(y, map_2)"
   ]
  },
  {
   "cell_type": "code",
   "execution_count": null,
   "id": "c5fc4305",
   "metadata": {},
   "outputs": [],
   "source": [
    "report(y, MAP(probas_0 + probas_1 + probas_2, prior_manual), save_name='confusion_MAP.png')"
   ]
  },
  {
   "cell_type": "code",
   "execution_count": null,
   "id": "b7e3a6cf",
   "metadata": {},
   "outputs": [],
   "source": [
    "report(y, MLE(probas_0 + probas_1 + probas_2), save_name='confusion_MLE.png')"
   ]
  },
  {
   "cell_type": "code",
   "execution_count": null,
   "id": "c3fc52f2",
   "metadata": {},
   "outputs": [],
   "source": [
    "report(y, MAP(probas_0 + probas_1 + probas_2, prior_empirical), save_name='confusion_MAP_empiric.png')"
   ]
  },
  {
   "cell_type": "markdown",
   "id": "bcfcda2c",
   "metadata": {},
   "source": [
    "# Test Data"
   ]
  },
  {
   "cell_type": "code",
   "execution_count": null,
   "id": "26d7b544",
   "metadata": {},
   "outputs": [],
   "source": [
    "data_test = np.load('results/results_neo_test.npz')\n",
    "y_test = data_test['y']"
   ]
  },
  {
   "cell_type": "code",
   "execution_count": null,
   "id": "514312ac",
   "metadata": {},
   "outputs": [],
   "source": [
    "data_test = np.load('results/results_neo_test_enh.npz')\n",
    "probas_test = data_test['preds']"
   ]
  },
  {
   "cell_type": "code",
   "execution_count": null,
   "id": "1a530431",
   "metadata": {},
   "outputs": [],
   "source": [
    "map_test = MAP(probas_test, prior_manual)"
   ]
  },
  {
   "cell_type": "code",
   "execution_count": null,
   "id": "b2657374",
   "metadata": {},
   "outputs": [],
   "source": [
    "report(y_test, map_test, save_name='confusion_test.png')"
   ]
  },
  {
   "cell_type": "code",
   "execution_count": null,
   "id": "844e9087",
   "metadata": {},
   "outputs": [],
   "source": []
  }
 ],
 "metadata": {
  "kernelspec": {
   "display_name": "Python 3 (ipykernel)",
   "language": "python",
   "name": "python3"
  },
  "language_info": {
   "codemirror_mode": {
    "name": "ipython",
    "version": 3
   },
   "file_extension": ".py",
   "mimetype": "text/x-python",
   "name": "python",
   "nbconvert_exporter": "python",
   "pygments_lexer": "ipython3",
   "version": "3.9.7"
  }
 },
 "nbformat": 4,
 "nbformat_minor": 5
}
