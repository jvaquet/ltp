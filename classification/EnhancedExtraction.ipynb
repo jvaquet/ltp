{
 "cells": [
  {
   "cell_type": "code",
   "execution_count": null,
   "id": "34d5262f",
   "metadata": {},
   "outputs": [],
   "source": [
    "import pickle\n",
    "import numpy as np"
   ]
  },
  {
   "cell_type": "code",
   "execution_count": null,
   "id": "0f4f2353",
   "metadata": {},
   "outputs": [],
   "source": [
    "with open(f'results/outputs_judge.p', 'rb') as f:\n",
    "    outputs_0 = pickle.load(f)"
   ]
  },
  {
   "cell_type": "code",
   "execution_count": null,
   "id": "117159b3",
   "metadata": {},
   "outputs": [],
   "source": [
    "outputs_0"
   ]
  },
  {
   "cell_type": "code",
   "execution_count": null,
   "id": "ced5f22d",
   "metadata": {},
   "outputs": [],
   "source": [
    "with open(f'results/outputs_neo_0.p', 'rb') as f:\n",
    "    outputs_0 = pickle.load(f)\n",
    "with open(f'results/outputs_neo_1.p', 'rb') as f:\n",
    "    outputs_1 = pickle.load(f)\n",
    "with open(f'results/outputs_neo_2.p', 'rb') as f:\n",
    "    outputs_2 = pickle.load(f)\n",
    "with open(f'results/outputs_neo_test.p', 'rb') as f:\n",
    "    outputs_test = pickle.load(f)"
   ]
  },
  {
   "cell_type": "markdown",
   "id": "8b9cd63e",
   "metadata": {},
   "source": [
    "## Improved extraction"
   ]
  },
  {
   "cell_type": "code",
   "execution_count": null,
   "id": "a91b167d",
   "metadata": {},
   "outputs": [],
   "source": [
    "isInterpretation = lambda x: 'interpr' in x\n",
    "isRational = lambda x: 'ration' in x\n",
    "isEmotional = lambda x: 'emotion' in x\n",
    "isAgreement = lambda x: 'agree' in x and not 'disagree' in x\n",
    "isDisagreement = lambda x: 'disagree' in x\n",
    "isAny = lambda x: isInterpretation(x) or isRational(x) or isEmotional(x) or isAgreement(x) or isDisagreement(x)"
   ]
  },
  {
   "cell_type": "code",
   "execution_count": null,
   "id": "0ec3c7ab",
   "metadata": {},
   "outputs": [],
   "source": [
    "def enhance_outputs(outputs):\n",
    "    for cur_output in outputs:\n",
    "        other_text = cur_output['other_text']\n",
    "        for t in other_text:\n",
    "            if isInterpretation(t):\n",
    "                cur_output['interpretation'] += 1\n",
    "            if isRational(t):\n",
    "                cur_output['rational'] += 1\n",
    "            if isEmotional(t):\n",
    "                cur_output['emotional'] += 1\n",
    "            if isAgreement(t):\n",
    "                cur_output['agreement'] += 1\n",
    "            if isDisagreement(t):\n",
    "                cur_output['disagreement'] += 1\n",
    "        cur_output['other_text'] = list(filter(lambda x: not isAny(x), other_text))\n",
    "        cur_output['other'] = len(cur_output['other_text'])\n",
    "                \n",
    "        "
   ]
  },
  {
   "cell_type": "code",
   "execution_count": null,
   "id": "ed75bba7",
   "metadata": {},
   "outputs": [],
   "source": [
    "enhance_outputs(outputs_0)\n",
    "enhance_outputs(outputs_1)\n",
    "enhance_outputs(outputs_2)\n",
    "enhance_outputs(outputs_test)"
   ]
  },
  {
   "cell_type": "code",
   "execution_count": null,
   "id": "ef23f9c2",
   "metadata": {},
   "outputs": [],
   "source": [
    "def predict_probas(res):\n",
    "    #res = self.predict_claim(claim, n_prompts=n_prompts, n_samples=n_samples)\n",
    "    #self.all_res.append(res)\n",
    "    classes_text = ['interpretation', 'rational', 'emotional', 'agreement', 'disagreement'] \n",
    "    probas = np.zeros(len(classes_text))\n",
    "    for i, cls in enumerate(classes_text):\n",
    "        probas[i] = res[cls]\n",
    "    probas /= np.sum(probas)\n",
    "    return probas\n",
    "\n",
    "def predict(outputs):\n",
    "    probas = np.array(list(map(lambda x: predict_probas(x), outputs)))\n",
    "    return probas"
   ]
  },
  {
   "cell_type": "code",
   "execution_count": null,
   "id": "80f22b69",
   "metadata": {},
   "outputs": [],
   "source": [
    "preds_0 = predict(outputs_0)\n",
    "preds_1 = predict(outputs_1)\n",
    "preds_2 = predict(outputs_2)\n",
    "preds_test = predict(outputs_test)"
   ]
  },
  {
   "cell_type": "code",
   "execution_count": null,
   "id": "b4d40cf3",
   "metadata": {},
   "outputs": [],
   "source": [
    "np.savez('results/results_neo_0_enh.npz', preds=preds_0)\n",
    "np.savez('results/results_neo_1_enh.npz', preds=preds_1)\n",
    "np.savez('results/results_neo_2_enh.npz', preds=preds_2)\n",
    "np.savez('results/results_neo_test_enh.npz', preds=preds_test)"
   ]
  }
 ],
 "metadata": {
  "kernelspec": {
   "display_name": "Python 3 (ipykernel)",
   "language": "python",
   "name": "python3"
  },
  "language_info": {
   "codemirror_mode": {
    "name": "ipython",
    "version": 3
   },
   "file_extension": ".py",
   "mimetype": "text/x-python",
   "name": "python",
   "nbconvert_exporter": "python",
   "pygments_lexer": "ipython3",
   "version": "3.9.7"
  }
 },
 "nbformat": 4,
 "nbformat_minor": 5
}
