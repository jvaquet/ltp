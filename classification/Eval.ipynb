{
 "cells": [
  {
   "cell_type": "code",
   "execution_count": null,
   "id": "57ecd10c",
   "metadata": {},
   "outputs": [],
   "source": [
    "from transformers import pipeline, AutoConfig, GPT2LMHeadModel, GPT2Tokenizer\n",
    "import pickle\n",
    "import numpy as np\n",
    "import matplotlib.pyplot as plt\n",
    "import sklearn as sk\n",
    "import sklearn.utils\n",
    "import sklearn.model_selection\n",
    "import sklearn.metrics"
   ]
  },
  {
   "cell_type": "code",
   "execution_count": null,
   "id": "5ce8e855",
   "metadata": {},
   "outputs": [],
   "source": [
    "with open('data_train.p', 'rb') as f:\n",
    "    data_train = pickle.load(f)"
   ]
  },
  {
   "cell_type": "code",
   "execution_count": null,
   "id": "9eca9405",
   "metadata": {},
   "outputs": [],
   "source": [
    "data = np.load('dataset.npz')\n",
    "X = data['X']\n",
    "y = data['y']"
   ]
  },
  {
   "cell_type": "code",
   "execution_count": null,
   "id": "7c646a2b",
   "metadata": {},
   "outputs": [],
   "source": [
    "class SemanticTypeAnalyzer:\n",
    "    \n",
    "    def __init__(self, data_train):\n",
    "        self.gpt2 = GPT2LMHeadModel.from_pretrained('gpt2')\n",
    "        self.gpt2.config.max_length = 1024\n",
    "        self.tokenizer = GPT2Tokenizer.from_pretrained('gpt2')\n",
    "        self.generator = pipeline(\"text-generation\", model=self.gpt2, tokenizer=self.tokenizer)\n",
    "        \n",
    "        self.data_train = data_train\n",
    "        self.classes = list(data_train.keys())\n",
    "        self.classes_text = list(map(lambda x: x.split('_')[-1], self.classes))\n",
    "        \n",
    "    def generate_prompt(self, phrase, n_examples=15):\n",
    "        prompt = ''\n",
    "        for i in range(n_examples):\n",
    "            cls_idx = np.random.randint(0, len(self.classes))\n",
    "            cls_name_prompt = self.classes_text[cls_idx]\n",
    "            cls_name = self.classes[cls_idx]\n",
    "            sample_idx = np.random.randint(0, len(self.data_train[cls_name]))\n",
    "            sample = self.data_train[cls_name][sample_idx]\n",
    "            prompt += f'Assign this phrase one of the five types {\", \".join(self.classes_text)}:\\n'\n",
    "            prompt += f'\"{sample}\"\\nType: {cls_name_prompt}\\n\\n'\n",
    "        prompt += f'\"{phrase}\"\\nType:'\n",
    "        return prompt\n",
    "\n",
    "    def evaluate_prompt(self, prompt, n_samples=5):\n",
    "        len_prompt = len(prompt)\n",
    "        len_answer = len(self.tokenizer(prompt).input_ids) + 5\n",
    "        res = self.generator(prompt, max_length=len_answer, num_return_sequences=n_samples)\n",
    "        return list(map(lambda x: x['generated_text'][len_prompt:].split('\\n')[0].replace(' ', ''), res))\n",
    "    \n",
    "    def predict_claim(self, claim, n_prompts=10, n_samples=5):\n",
    "        preds = []\n",
    "        for _ in range(n_prompts):\n",
    "            prompt = self.generate_prompt(claim)\n",
    "            preds += self.evaluate_prompt(prompt, n_samples=n_samples)\n",
    "\n",
    "        results = {}\n",
    "        for cls in self.classes_text:\n",
    "            results[cls] = preds.count(cls)\n",
    "        results['other_text'] = list(filter(lambda x: x not in self.classes_text, preds))\n",
    "        results['other'] = len(results['other_text'])\n",
    "        return results\n",
    "    \n",
    "    def predict_probas(self, claim, n_prompts=10, n_samples=5):\n",
    "        res = self.predict_claim(claim, n_prompts=n_prompts, n_samples=n_samples)\n",
    "        probas = np.zeros(len(self.classes_text))\n",
    "        for i, cls in enumerate(self.classes_text):\n",
    "            probas[i] = res[cls]\n",
    "        probas /= np.sum(probas)\n",
    "        return probas\n",
    "        \n",
    "    def predict(self, X, n_prompts=10, n_samples=5):\n",
    "        probas = np.array(list(map(lambda x: self.predict_probas(x, n_prompts=n_prompts, n_samples=n_samples), X)))\n",
    "        return probas#np.argmax(probas, axis=1)"
   ]
  },
  {
   "cell_type": "code",
   "execution_count": null,
   "id": "bfa8c2ab",
   "metadata": {},
   "outputs": [],
   "source": [
    "analyzer = SemanticTypeAnalyzer(data_train)"
   ]
  },
  {
   "cell_type": "markdown",
   "id": "6c6bef24",
   "metadata": {},
   "source": [
    "## Experiments"
   ]
  },
  {
   "cell_type": "code",
   "execution_count": null,
   "id": "12ee3fba",
   "metadata": {},
   "outputs": [],
   "source": [
    "X, y = sk.utils.shuffle(X, y)"
   ]
  },
  {
   "cell_type": "code",
   "execution_count": null,
   "id": "b797cd80",
   "metadata": {},
   "outputs": [],
   "source": [
    "X_small, _, y_small, _ = sk.model_selection.train_test_split(X, y, train_size=2)"
   ]
  },
  {
   "cell_type": "code",
   "execution_count": null,
   "id": "47cd5928",
   "metadata": {},
   "outputs": [],
   "source": [
    "probas = analyzer.predict(X_small)"
   ]
  },
  {
   "cell_type": "code",
   "execution_count": null,
   "id": "1a5f090c",
   "metadata": {},
   "outputs": [],
   "source": [
    "preds = np.argmax(probas, axis=1)"
   ]
  },
  {
   "cell_type": "code",
   "execution_count": null,
   "id": "21ea3633",
   "metadata": {},
   "outputs": [],
   "source": [
    "preds_posterior = np.argmax(probas * np.array([461., 624., 339.,  95.,  72.]), axis=1)"
   ]
  },
  {
   "cell_type": "code",
   "execution_count": null,
   "id": "6b05549b",
   "metadata": {},
   "outputs": [],
   "source": [
    "y_small"
   ]
  },
  {
   "cell_type": "code",
   "execution_count": null,
   "id": "7fda14c9",
   "metadata": {},
   "outputs": [],
   "source": [
    "preds"
   ]
  },
  {
   "cell_type": "code",
   "execution_count": null,
   "id": "0abce01d",
   "metadata": {},
   "outputs": [],
   "source": [
    "print(sk.metrics.classification_report(y_small, preds))"
   ]
  },
  {
   "cell_type": "code",
   "execution_count": null,
   "id": "f68a6f7f",
   "metadata": {
    "scrolled": true
   },
   "outputs": [],
   "source": [
    "sk.metrics.ConfusionMatrixDisplay.from_predictions(y_small, preds, display_labels=data_train.keys(), xticks_rotation=45)\n",
    "plt.savefig('confusion.png', bbox_inches='tight')"
   ]
  },
  {
   "cell_type": "code",
   "execution_count": null,
   "id": "03c6cdf9",
   "metadata": {},
   "outputs": [],
   "source": [
    "print(sk.metrics.classification_report(y_small, preds_posterior))"
   ]
  },
  {
   "cell_type": "code",
   "execution_count": null,
   "id": "f026d30f",
   "metadata": {},
   "outputs": [],
   "source": [
    "sk.metrics.ConfusionMatrixDisplay.from_predictions(y_small, preds_posterior)"
   ]
  },
  {
   "cell_type": "code",
   "execution_count": null,
   "id": "6321fc29",
   "metadata": {},
   "outputs": [],
   "source": []
  }
 ],
 "metadata": {
  "kernelspec": {
   "display_name": "Python 3 (ipykernel)",
   "language": "python",
   "name": "python3"
  },
  "language_info": {
   "codemirror_mode": {
    "name": "ipython",
    "version": 3
   },
   "file_extension": ".py",
   "mimetype": "text/x-python",
   "name": "python",
   "nbconvert_exporter": "python",
   "pygments_lexer": "ipython3",
   "version": "3.9.7"
  }
 },
 "nbformat": 4,
 "nbformat_minor": 5
}
