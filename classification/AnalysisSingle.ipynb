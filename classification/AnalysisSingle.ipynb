{
 "cells": [
  {
   "cell_type": "code",
   "execution_count": null,
   "id": "57ecd10c",
   "metadata": {},
   "outputs": [],
   "source": [
    "from transformers import pipeline, AutoConfig, GPT2LMHeadModel, GPT2Tokenizer\n",
    "import pickle\n",
    "import numpy as np\n",
    "import matplotlib.pyplot as plt\n",
    "import sklearn as sk\n",
    "import sklearn.utils\n",
    "import sklearn.model_selection\n",
    "import sklearn.metrics\n",
    "import sklearn.linear_model"
   ]
  },
  {
   "cell_type": "code",
   "execution_count": null,
   "id": "9eca9405",
   "metadata": {},
   "outputs": [],
   "source": [
    "data = np.load('results/results_neo_test.npz')\n",
    "probas = data['preds']\n",
    "y = data['y']"
   ]
  },
  {
   "cell_type": "code",
   "execution_count": null,
   "id": "06a74cbb",
   "metadata": {},
   "outputs": [],
   "source": [
    "with open('data_train.p', 'rb') as f:\n",
    "    data_train = pickle.load(f)"
   ]
  },
  {
   "cell_type": "code",
   "execution_count": null,
   "id": "a1ce9cb3",
   "metadata": {},
   "outputs": [],
   "source": [
    "with open('outputs.p', 'rb') as f:\n",
    "    outputs_raw = pickle.load(f)"
   ]
  },
  {
   "cell_type": "code",
   "execution_count": null,
   "id": "4eb25af4",
   "metadata": {},
   "outputs": [],
   "source": [
    "outputs_raw"
   ]
  },
  {
   "cell_type": "markdown",
   "id": "fe3f4396",
   "metadata": {},
   "source": [
    "## Calculate Preds"
   ]
  },
  {
   "cell_type": "code",
   "execution_count": null,
   "id": "be2b1de2",
   "metadata": {},
   "outputs": [],
   "source": [
    "MLE = lambda probas: np.argmax(probas, axis=1)"
   ]
  },
  {
   "cell_type": "code",
   "execution_count": null,
   "id": "40a805a5",
   "metadata": {},
   "outputs": [],
   "source": [
    "preds = MLE(probas)"
   ]
  },
  {
   "cell_type": "markdown",
   "id": "21107b38",
   "metadata": {},
   "source": [
    "### MAP"
   ]
  },
  {
   "cell_type": "code",
   "execution_count": null,
   "id": "1d956378",
   "metadata": {},
   "outputs": [],
   "source": [
    "MAP = lambda probas, prior: np.argmax(probas * prior, axis=1)"
   ]
  },
  {
   "cell_type": "code",
   "execution_count": null,
   "id": "4a0681fa",
   "metadata": {},
   "outputs": [],
   "source": [
    "prior_manual = np.array([5.0, 23.5, 3.5, 2.25, 3.7])\n",
    "prior_empirical = np.array([461., 624., 339.,  95.,  72.])"
   ]
  },
  {
   "cell_type": "code",
   "execution_count": null,
   "id": "879dbcb3",
   "metadata": {},
   "outputs": [],
   "source": [
    "map_emp = MAP(probas, prior_empirical)"
   ]
  },
  {
   "cell_type": "code",
   "execution_count": null,
   "id": "109ba8ce",
   "metadata": {},
   "outputs": [],
   "source": [
    "map_man = MAP(probas, prior_manual)"
   ]
  },
  {
   "cell_type": "markdown",
   "id": "6eff7e9b",
   "metadata": {},
   "source": [
    "### Code for manual grid search"
   ]
  },
  {
   "cell_type": "code",
   "execution_count": null,
   "id": "799c8c2d",
   "metadata": {},
   "outputs": [],
   "source": [
    "range_0 = []# np.arange(8, 16, .5)\n",
    "range_1 = []# np.arange(1, 6, .5)\n",
    "range_2 = []# np.arange(2, 7, .5)\n",
    "range_3 = []# np.arange(3, 8, .5)\n",
    "range_4 = []# np.arange(1, 3, .5)"
   ]
  },
  {
   "cell_type": "code",
   "execution_count": null,
   "id": "7a6d36c0",
   "metadata": {},
   "outputs": [],
   "source": [
    "best_f1 = 0\n",
    "best_weights = []\n",
    "\n",
    "for w0 in range_0:\n",
    "    print(f'w0: {w0}')\n",
    "    for w1 in range_1:\n",
    "        for w2 in range_2:\n",
    "            for w3 in range_3:\n",
    "                for w4 in range_4:\n",
    "                    cur_weights = np.array([w0, w1, w2, w3, w4])\n",
    "                    cur_preds = MAP(probas, cur_weights)\n",
    "                    cur_f1 = sk.metrics.f1_score(y, cur_preds, average='macro')\n",
    "                    if cur_f1 > best_f1:\n",
    "                        best_f1 = cur_f1\n",
    "                        best_weights = [w0, w1, w2, w3, w4]"
   ]
  },
  {
   "cell_type": "markdown",
   "id": "4a5ddb8f",
   "metadata": {},
   "source": [
    "* 0.38: [10, 3, 4, 5, 1]\n",
    "* 0.40: [13.5, 3.5, 4.5, 5.0, 1.0]"
   ]
  },
  {
   "cell_type": "code",
   "execution_count": null,
   "id": "4167a0f7",
   "metadata": {},
   "outputs": [],
   "source": [
    "best_weights = [13.5, 3.5, 4.5, 5.0, 1.0]"
   ]
  },
  {
   "cell_type": "code",
   "execution_count": null,
   "id": "2f35e6ab",
   "metadata": {},
   "outputs": [],
   "source": [
    "report(y, MAP(best_weights, probas))"
   ]
  },
  {
   "cell_type": "markdown",
   "id": "6c6bef24",
   "metadata": {},
   "source": [
    "## Classification Reports"
   ]
  },
  {
   "cell_type": "code",
   "execution_count": null,
   "id": "241bd5c2",
   "metadata": {},
   "outputs": [],
   "source": [
    "def report(y, preds, save_name=False):\n",
    "    print(sk.metrics.classification_report(y, preds, zero_division=0))\n",
    "    sk.metrics.ConfusionMatrixDisplay.from_predictions(y, preds, display_labels=data_train.keys(), \\\n",
    "                                                       xticks_rotation=45, normalize='true')\n",
    "    if save_name:\n",
    "        plt.savefig(save_name, bbox_inches='tight')\n",
    "    plt.show()"
   ]
  },
  {
   "cell_type": "code",
   "execution_count": null,
   "id": "7e66d92b",
   "metadata": {},
   "outputs": [],
   "source": [
    "print(\"MLE:\")\n",
    "report(y, preds)"
   ]
  },
  {
   "cell_type": "code",
   "execution_count": null,
   "id": "986c7a7f",
   "metadata": {},
   "outputs": [],
   "source": [
    "print(\"MAP:\")\n",
    "report(y, map_emp)"
   ]
  },
  {
   "cell_type": "code",
   "execution_count": null,
   "id": "d80040dc",
   "metadata": {},
   "outputs": [],
   "source": [
    "print(\"MAP:\")\n",
    "report(y, map_man)"
   ]
  },
  {
   "cell_type": "code",
   "execution_count": null,
   "id": "7c2d1ee0",
   "metadata": {},
   "outputs": [],
   "source": []
  }
 ],
 "metadata": {
  "kernelspec": {
   "display_name": "Python 3 (ipykernel)",
   "language": "python",
   "name": "python3"
  },
  "language_info": {
   "codemirror_mode": {
    "name": "ipython",
    "version": 3
   },
   "file_extension": ".py",
   "mimetype": "text/x-python",
   "name": "python",
   "nbconvert_exporter": "python",
   "pygments_lexer": "ipython3",
   "version": "3.9.7"
  }
 },
 "nbformat": 4,
 "nbformat_minor": 5
}
