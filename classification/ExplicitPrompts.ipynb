{
 "cells": [
  {
   "cell_type": "code",
   "execution_count": null,
   "id": "f25eedc3",
   "metadata": {},
   "outputs": [],
   "source": [
    "from transformers import pipeline, AutoConfig, GPT2LMHeadModel, GPT2Tokenizer\n",
    "import pickle\n",
    "import numpy as np"
   ]
  },
  {
   "cell_type": "markdown",
   "id": "913cb985",
   "metadata": {},
   "source": [
    "### Load Dataset"
   ]
  },
  {
   "cell_type": "code",
   "execution_count": null,
   "id": "b1ea90d1",
   "metadata": {},
   "outputs": [],
   "source": [
    "with open('data_train.p', 'rb') as f:\n",
    "    data_train = pickle.load(f)\n",
    "    \n",
    "with open('data_test.p', 'rb') as f:\n",
    "    data_test = pickle.load(f)\n",
    "    \n",
    "classes = list(data_train.keys())"
   ]
  },
  {
   "cell_type": "markdown",
   "id": "01fc9956",
   "metadata": {},
   "source": [
    "### Instanciate Model"
   ]
  },
  {
   "cell_type": "code",
   "execution_count": null,
   "id": "bafd3bde",
   "metadata": {},
   "outputs": [],
   "source": [
    "gpt2 = GPT2LMHeadModel.from_pretrained('gpt2')\n",
    "gpt2.config.max_length = 1024\n",
    "tokenizer = GPT2Tokenizer.from_pretrained('gpt2')\n",
    "\n",
    "generator = pipeline(\"text-generation\", model=gpt2, tokenizer=tokenizer)"
   ]
  },
  {
   "cell_type": "markdown",
   "id": "bfd0ae00",
   "metadata": {},
   "source": [
    "### Load Class names"
   ]
  },
  {
   "cell_type": "code",
   "execution_count": null,
   "id": "2d01b295",
   "metadata": {},
   "outputs": [],
   "source": [
    "classes_text = list(map(lambda x: x.split('_')[-1], classes))"
   ]
  },
  {
   "cell_type": "markdown",
   "id": "1b6ff4c3",
   "metadata": {},
   "source": [
    "### Evaluation Functions"
   ]
  },
  {
   "cell_type": "code",
   "execution_count": null,
   "id": "9a7256dc",
   "metadata": {},
   "outputs": [],
   "source": [
    "def generate_prompt(phrase):\n",
    "    prompt = ''\n",
    "    for i in range(15):\n",
    "        cls_idx = np.random.randint(0, len(classes))\n",
    "        cls_name_prompt = classes_text[cls_idx]\n",
    "        cls_name = classes[cls_idx]\n",
    "        sample_idx = np.random.randint(0, len(data_train[cls_name]))\n",
    "        sample = data_train[cls_name][sample_idx]\n",
    "        prompt += f'Assign this phrase one of the five types {\", \".join(classes_text)}:\\n'\n",
    "        prompt += f'\"{sample}\"\\nType: {cls_name_prompt}\\n\\n'\n",
    "    prompt += f'\"{phrase}\"\\nType:'\n",
    "    return prompt"
   ]
  },
  {
   "cell_type": "code",
   "execution_count": null,
   "id": "96c9911e",
   "metadata": {},
   "outputs": [],
   "source": [
    "def evaluate_prompt(prompt, n_samples=5):\n",
    "    len_prompt = len(prompt)\n",
    "    len_answer = len(tokenizer(prompt).input_ids) + 5\n",
    "    res = generator(prompt, max_length=len_answer, num_return_sequences=n_samples)\n",
    "    return list(map(lambda x: x['generated_text'][len_prompt:].split('\\n')[0].replace(' ', ''), res))"
   ]
  },
  {
   "cell_type": "code",
   "execution_count": null,
   "id": "0208c2cc",
   "metadata": {},
   "outputs": [],
   "source": [
    "def predict_claim(claim, n_prompts=10, n_samples=5):\n",
    "    preds = []\n",
    "    for _ in range(n_prompts):\n",
    "        prompt = generate_prompt(claim)\n",
    "        preds += evaluate_prompt(prompt, n_samples=n_samples)\n",
    "        \n",
    "    results = {}\n",
    "    for cls in classes_text:\n",
    "        results[cls] = preds.count(cls)\n",
    "    results['other_text'] = list(filter(lambda x: x not in classes_text, preds))\n",
    "    results['other'] = len(results['other_text'])\n",
    "    return results"
   ]
  },
  {
   "cell_type": "code",
   "execution_count": null,
   "id": "608ccc83",
   "metadata": {},
   "outputs": [],
   "source": [
    "def predict_probas(claim):\n",
    "    res = predict_claim(claim)\n",
    "    probas = np.zeros(len(classes_text))\n",
    "    for i, cls in enumerate(classes_text):\n",
    "        probas[i] = res[cls]\n",
    "    probas /= np.sum(probas)"
   ]
  },
  {
   "cell_type": "markdown",
   "id": "8d8eb86f",
   "metadata": {},
   "source": [
    "### Usage Example"
   ]
  },
  {
   "cell_type": "code",
   "execution_count": null,
   "id": "aedda480",
   "metadata": {},
   "outputs": [],
   "source": [
    "test_phrase = data_test['agreement'][0]"
   ]
  },
  {
   "cell_type": "code",
   "execution_count": null,
   "id": "49cf41ba",
   "metadata": {},
   "outputs": [],
   "source": [
    "test_phrase"
   ]
  },
  {
   "cell_type": "code",
   "execution_count": null,
   "id": "213c1626",
   "metadata": {},
   "outputs": [],
   "source": [
    "generate_prompt(test_phrase)"
   ]
  },
  {
   "cell_type": "code",
   "execution_count": null,
   "id": "c1b79a52",
   "metadata": {},
   "outputs": [],
   "source": [
    "res = predict_claim(test_phrase)\n",
    "res"
   ]
  },
  {
   "cell_type": "markdown",
   "id": "8c7f4da2",
   "metadata": {},
   "source": [
    "### Put everything into a class"
   ]
  },
  {
   "cell_type": "code",
   "execution_count": null,
   "id": "41d76742",
   "metadata": {},
   "outputs": [],
   "source": [
    "class SemanticTypeAnalyzer:\n",
    "    \n",
    "    def __init__(self, data_train):\n",
    "        self.gpt2 = GPT2LMHeadModel.from_pretrained('gpt2')\n",
    "        self.gpt2.config.max_length = 1024\n",
    "        self.tokenizer = GPT2Tokenizer.from_pretrained('gpt2')\n",
    "        self.generator = pipeline(\"text-generation\", model=self.gpt2, tokenizer=self.tokenizer)\n",
    "        \n",
    "        self.data_train = data_train\n",
    "        self.classes = list(data_train.keys())\n",
    "        self.classes_text = list(map(lambda x: x.split('_')[-1], self.classes))\n",
    "        \n",
    "    def generate_prompt(self, phrase, n_examples=15):\n",
    "        prompt = ''\n",
    "        for i in range(n_examples):\n",
    "            cls_idx = np.random.randint(0, len(self.classes))\n",
    "            cls_name_prompt = self.classes_text[cls_idx]\n",
    "            cls_name = self.classes[cls_idx]\n",
    "            sample_idx = np.random.randint(0, len(self.data_train[cls_name]))\n",
    "            sample = self.data_train[cls_name][sample_idx]\n",
    "            prompt += f'Assign this phrase one of the five types {\", \".join(self.classes_text)}:\\n'\n",
    "            prompt += f'\"{sample}\"\\nType: {cls_name_prompt}\\n\\n'\n",
    "        prompt += f'\"{phrase}\"\\nType:'\n",
    "        return prompt\n",
    "\n",
    "    def evaluate_prompt(self, prompt, n_samples=5):\n",
    "        len_prompt = len(prompt)\n",
    "        len_answer = len(self.tokenizer(prompt).input_ids) + 5\n",
    "        res = self.generator(prompt, max_length=len_answer, num_return_sequences=n_samples)\n",
    "        return list(map(lambda x: x['generated_text'][len_prompt:].split('\\n')[0].replace(' ', ''), res))\n",
    "    \n",
    "    def predict_claim(self, claim, n_prompts=10, n_samples=5):\n",
    "        preds = []\n",
    "        for _ in range(n_prompts):\n",
    "            prompt = self.generate_prompt(claim)\n",
    "            preds += self.evaluate_prompt(prompt, n_samples=n_samples)\n",
    "\n",
    "        results = {}\n",
    "        for cls in self.classes_text:\n",
    "            results[cls] = preds.count(cls)\n",
    "        results['other_text'] = list(filter(lambda x: x not in self.classes_text, preds))\n",
    "        results['other'] = len(results['other_text'])\n",
    "        return results\n",
    "    \n",
    "    def predict_probas(self, claim, n_prompts=10, n_samples=5):\n",
    "        res = self.predict_claim(claim, n_prompts=n_prompts, n_samples=n_samples)\n",
    "        probas = np.zeros(len(self.classes_text))\n",
    "        for i, cls in enumerate(self.classes_text):\n",
    "            probas[i] = res[cls]\n",
    "        probas /= np.sum(probas)\n",
    "        return probas\n",
    "        \n",
    "    def predict(self, X, n_prompts=10, n_samples=5):\n",
    "        probas = np.array(list(map(lambda x: self.predict_probas(x, n_prompts=n_prompts, n_samples=n_samples), X)))\n",
    "        return np.argmax(probas, axis=1)"
   ]
  },
  {
   "cell_type": "code",
   "execution_count": null,
   "id": "1fe5674d",
   "metadata": {},
   "outputs": [],
   "source": [
    "analyzer = SemanticTypeAnalyzer(data_train)"
   ]
  },
  {
   "cell_type": "code",
   "execution_count": null,
   "id": "a3beef68",
   "metadata": {},
   "outputs": [],
   "source": [
    "res = analyzer.predict(np.array(['Yes.', 'No.']), n_prompts=3, n_samples=5)\n",
    "res"
   ]
  }
 ],
 "metadata": {
  "kernelspec": {
   "display_name": "Python 3 (ipykernel)",
   "language": "python",
   "name": "python3"
  },
  "language_info": {
   "codemirror_mode": {
    "name": "ipython",
    "version": 3
   },
   "file_extension": ".py",
   "mimetype": "text/x-python",
   "name": "python",
   "nbconvert_exporter": "python",
   "pygments_lexer": "ipython3",
   "version": "3.9.7"
  }
 },
 "nbformat": 4,
 "nbformat_minor": 5
}
